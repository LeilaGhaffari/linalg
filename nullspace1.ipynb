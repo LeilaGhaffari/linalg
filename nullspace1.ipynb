{
 "cells": [
  {
   "cell_type": "code",
   "execution_count": 2,
   "metadata": {},
   "outputs": [],
   "source": [
    "using LinearAlgebra"
   ]
  },
  {
   "cell_type": "code",
   "execution_count": 160,
   "metadata": {},
   "outputs": [
    {
     "data": {
      "text/plain": [
       "true"
      ]
     },
     "metadata": {},
     "output_type": "display_data"
    }
   ],
   "source": [
    "m = 30; n = 6;\n",
    "b = rand(m);\n",
    "v = normalize(rand(m, 1)) # random unit vector defining the null space\n",
    "A = diagm(10 .^ LinRange(1, 10, m)) * (I - v * v') # ill-conditioned nonsymmetric matrix with 1-dimensional null space\n",
    "B = [rand(m,n-1) v]\n",
    "Q, _ = qr(B); Z = Q[:, 1:n]; # near-null space that contains v\n",
    "Y = A * Z;\n",
    "YTY = Y'*Y;\n",
    "U, S, V = svd(YTY);\n",
    "sigma = sqrt.(S)\n",
    "YTY ≈ U * diagm(S) * V'"
   ]
  },
  {
   "cell_type": "code",
   "execution_count": 162,
   "metadata": {},
   "outputs": [
    {
     "data": {
      "text/plain": [
       "true"
      ]
     },
     "metadata": {},
     "output_type": "display_data"
    }
   ],
   "source": [
    "tol = 1E5\n",
    "min_sing = min(findall(>(tol), sigma[1]./sigma)...)\n",
    "Vhat = V[:, min_sing:end]\n",
    "Zhat = Z * Vhat # null space\n",
    "Zhat ≈ nullspace(A)"
   ]
  },
  {
   "cell_type": "code",
   "execution_count": null,
   "metadata": {},
   "outputs": [],
   "source": []
  }
 ],
 "metadata": {
  "kernelspec": {
   "display_name": "Julia 1.8.0",
   "language": "julia",
   "name": "julia-1.8"
  },
  "language_info": {
   "file_extension": ".jl",
   "mimetype": "application/julia",
   "name": "julia",
   "version": "1.8.0"
  },
  "orig_nbformat": 4
 },
 "nbformat": 4,
 "nbformat_minor": 2
}

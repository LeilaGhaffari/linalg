{
 "cells": [
  {
   "cell_type": "code",
   "execution_count": 4,
   "metadata": {},
   "outputs": [],
   "source": [
    "using LinearAlgebra"
   ]
  },
  {
   "cell_type": "code",
   "execution_count": 5,
   "metadata": {},
   "outputs": [
    {
     "data": {
      "text/plain": [
       "true"
      ]
     },
     "metadata": {},
     "output_type": "display_data"
    }
   ],
   "source": [
    "m = 5; n = 3;\n",
    "A = [9.536164885500757 -1.3888124843336203 -0.31701403374824627 -1.4399788580254713 -0.5660132558123616; -246.9696645295481 1038.804233131242 -168.79457186092566 -766.7187851444407 -301.37456078152155; -10024.863968819438 -30016.391166661942 309376.14468591753 -31122.249520211466 -12233.239176368521; -8.09759619268129e6 -2.4245776858937044e7 -5.53440555158858e6 3.1095097215773854e7 -9.88141398096068e6; -5.660132558123616e8 -1.6947536988854022e9 -3.86848989589268e8 -1.757191502441312e9 9.309299801285673e9]\n",
    "Z = [-0.7129450489641078 0.26932808210455883 -0.35714052277673436; -0.14637906894334676 -0.7114324335541027 0.25976418268418494; -0.39442299898091154 0.11310623332793951 -0.1822319246739048; -0.4519395716763137 -0.5421358152486775 -0.007731264801954483; -0.33236071783647775 0.33855873121835867 0.8784673981198073]\n",
    "Y = A * Z;\n",
    "YTY = Y'*Y;\n",
    "U, S, V = svd(YTY);\n",
    "sigma = sqrt.(S)\n",
    "YTY ≈ U * diagm(S) * V'"
   ]
  },
  {
   "cell_type": "code",
   "execution_count": 6,
   "metadata": {},
   "outputs": [
    {
     "data": {
      "text/plain": [
       "3×3 Matrix{Float64}:\n",
       "  2.23714e18  -7.64887e18  -1.20014e19\n",
       " -7.64887e18   2.61519e19   4.10334e19\n",
       " -1.20014e19   4.10334e19   6.43832e19"
      ]
     },
     "metadata": {},
     "output_type": "display_data"
    }
   ],
   "source": [
    "YTY"
   ]
  },
  {
   "cell_type": "code",
   "execution_count": 7,
   "metadata": {},
   "outputs": [
    {
     "data": {
      "text/plain": [
       "true"
      ]
     },
     "metadata": {},
     "output_type": "display_data"
    }
   ],
   "source": [
    "tol = 1E6\n",
    "sigma_min = min(findall(>(tol), sigma[1]./sigma)...)\n",
    "Vhat = V[:, sigma_min:end]\n",
    "Zhat = Z * Vhat # null space\n",
    "Zhat ≈ nullspace(A) || Zhat ≈ -nullspace(A)"
   ]
  },
  {
   "cell_type": "code",
   "execution_count": 8,
   "metadata": {},
   "outputs": [
    {
     "data": {
      "text/plain": [
       "3-element Vector{Float64}:\n",
       "  9.63183367302096e9\n",
       "  1.7452541372062003e6\n",
       " 47.63423202902815"
      ]
     },
     "metadata": {},
     "output_type": "display_data"
    }
   ],
   "source": [
    "sigma"
   ]
  },
  {
   "cell_type": "code",
   "execution_count": 9,
   "metadata": {},
   "outputs": [
    {
     "data": {
      "text/plain": [
       "3×3 adjoint(::Matrix{Float64}) with eltype Float64:\n",
       " -0.155288   0.701528  -0.695517\n",
       "  0.530936  -0.534458  -0.657618\n",
       "  0.833062   0.471395   0.289472"
      ]
     },
     "metadata": {},
     "output_type": "display_data"
    }
   ],
   "source": [
    "V"
   ]
  },
  {
   "cell_type": "code",
   "execution_count": 10,
   "metadata": {},
   "outputs": [
    {
     "data": {
      "text/plain": [
       "3×3 Matrix{Float64}:\n",
       " -0.155288   0.530936  0.833062\n",
       "  0.701528  -0.534458  0.471395\n",
       " -0.695517  -0.657618  0.289472"
      ]
     },
     "metadata": {},
     "output_type": "display_data"
    }
   ],
   "source": [
    "V'"
   ]
  },
  {
   "cell_type": "code",
   "execution_count": 11,
   "metadata": {},
   "outputs": [
    {
     "data": {
      "text/plain": [
       "5×1 Matrix{Float64}:\n",
       " 0.2153683159508777\n",
       " 0.6448545966579913\n",
       " 0.1471962264939093\n",
       " 0.6686122109923381\n",
       " 0.2628117574832465"
      ]
     },
     "metadata": {},
     "output_type": "display_data"
    }
   ],
   "source": [
    "Zhat"
   ]
  },
  {
   "cell_type": "code",
   "execution_count": 12,
   "metadata": {},
   "outputs": [
    {
     "data": {
      "text/plain": [
       "5×3 Matrix{Float64}:\n",
       " -0.712945   0.269328  -0.357141\n",
       " -0.146379  -0.711432   0.259764\n",
       " -0.394423   0.113106  -0.182232\n",
       " -0.45194   -0.542136  -0.00773126\n",
       " -0.332361   0.338559   0.878467"
      ]
     },
     "metadata": {},
     "output_type": "display_data"
    }
   ],
   "source": [
    "Z"
   ]
  },
  {
   "cell_type": "code",
   "execution_count": 13,
   "metadata": {},
   "outputs": [
    {
     "data": {
      "text/plain": [
       "3-element Vector{Float64}:\n",
       "    1.0\n",
       " 5518.871703372428\n",
       "    2.0220402980678582e8"
      ]
     },
     "metadata": {},
     "output_type": "display_data"
    }
   ],
   "source": [
    "sigma[1]./sigma"
   ]
  },
  {
   "cell_type": "code",
   "execution_count": 14,
   "metadata": {},
   "outputs": [
    {
     "data": {
      "text/plain": [
       "3×1 Matrix{Float64}:\n",
       " -0.6955171877423798\n",
       " -0.6576183396977503\n",
       "  0.28947186538263986"
      ]
     },
     "metadata": {},
     "output_type": "display_data"
    }
   ],
   "source": [
    "Vhat"
   ]
  },
  {
   "cell_type": "code",
   "execution_count": null,
   "metadata": {},
   "outputs": [],
   "source": []
  }
 ],
 "metadata": {
  "kernelspec": {
   "display_name": "Julia 1.8.0",
   "language": "julia",
   "name": "julia-1.8"
  },
  "language_info": {
   "file_extension": ".jl",
   "mimetype": "application/julia",
   "name": "julia",
   "version": "1.8.0"
  },
  "orig_nbformat": 4
 },
 "nbformat": 4,
 "nbformat_minor": 2
}

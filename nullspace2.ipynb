{
 "cells": [
  {
   "cell_type": "code",
   "execution_count": 1,
   "metadata": {},
   "outputs": [],
   "source": [
    "using LinearAlgebra"
   ]
  },
  {
   "cell_type": "code",
   "execution_count": 70,
   "metadata": {},
   "outputs": [],
   "source": [
    "m = 7; n = 4;\n",
    "v = normalize(rand(m, 1)) \n",
    "u = normalize(rand(m, 1));"
   ]
  },
  {
   "cell_type": "code",
   "execution_count": 71,
   "metadata": {},
   "outputs": [
    {
     "name": "stdout",
     "output_type": "stream",
     "text": [
      "[87.15110572401801 -16.16548946253777 -3.643026612746638 -13.924921590850378 -14.310314839096167 -24.073087749430034 -14.989306507416957; -12614.33945933622 82521.71795611364 -4149.325330259177 -11825.908277687384 -21359.092862706526 -25720.884609304867 -18021.364823704003; -2.37795070532944e6 -3.564556156993463e6 9.912172624529685e7 -1.9198870092251352e6 -5.25256403994479e6 -5.198786815217048e6 -3.9517086212701546e6; -1.799933702747733e10 -2.0800564203861282e10 -4.446118915806471e9 7.837666199150693e10 -1.1659415729163944e10 -3.132791074316104e10 -1.7204945269605217e10; 1.8343982116022158e12 -5.002112285556679e12 -2.08404355141852e12 1.0375167554036137e13 6.880929183060018e13 -6.052482339108121e12 -1.2888773612103691e13; -1.9463242785287924e16 -2.6574401278609816e16 -6.261951874445011e15 -1.869838118834604e16 -3.1166297911995092e16 6.082506457349225e16 -2.6996697058274044e16; -7.688448285939741e18 -1.2978699719354585e19 -3.357524397995964e18 -4.539533242491281e18 -2.3591676888639558e19 -1.869591885886601e19 8.423457848258825e19]"
     ]
    }
   ],
   "source": [
    "W = diagm(10 .^ LinRange(1, 10, m))\n",
    "A = W * W * (I - v * v') * (I - u * u')\n",
    "print(A)"
   ]
  },
  {
   "cell_type": "code",
   "execution_count": 73,
   "metadata": {},
   "outputs": [
    {
     "data": {
      "text/plain": [
       "true"
      ]
     },
     "metadata": {},
     "output_type": "display_data"
    }
   ],
   "source": [
    "B = [rand(m,n-2) sqrt.(v) sqrt.(u.*v)]\n",
    "Q, _ = qr(B); Z = Q[:, 1:n] # Couldn't find a near nullspace but the following math is correct\n",
    "\n",
    "Y = A * Z;\n",
    "YTY = Y'*Y;\n",
    "U, S, V = svd(YTY);\n",
    "sigma = sqrt.(S)\n",
    "YTY ≈ U * diagm(S) * V'"
   ]
  },
  {
   "cell_type": "code",
   "execution_count": 83,
   "metadata": {},
   "outputs": [
    {
     "data": {
      "text/plain": [
       "false"
      ]
     },
     "metadata": {},
     "output_type": "display_data"
    }
   ],
   "source": [
    "tol = 1E5\n",
    "min_sing = min(findall(>(tol), sigma[1]./sigma)...)\n",
    "Vhat = V[:, min_sing:end]\n",
    "Zhat = Z * Vhat # null space\n",
    "Zhat ≈ nullspace(A)\n"
   ]
  },
  {
   "cell_type": "code",
   "execution_count": 84,
   "metadata": {},
   "outputs": [
    {
     "data": {
      "text/plain": [
       "7×2 Matrix{Float64}:\n",
       "  0.114615   -0.338396\n",
       "  0.0544661  -0.470985\n",
       "  0.338257   -0.116919\n",
       "  0.422184   -0.41797\n",
       " -0.759821   -0.0745938\n",
       " -0.259845   -0.62126\n",
       " -0.215388   -0.289421"
      ]
     },
     "metadata": {},
     "output_type": "display_data"
    }
   ],
   "source": [
    "Zhat"
   ]
  }
 ],
 "metadata": {
  "kernelspec": {
   "display_name": "Julia 1.8.0",
   "language": "julia",
   "name": "julia-1.8"
  },
  "language_info": {
   "file_extension": ".jl",
   "mimetype": "application/julia",
   "name": "julia",
   "version": "1.8.0"
  },
  "orig_nbformat": 4
 },
 "nbformat": 4,
 "nbformat_minor": 2
}

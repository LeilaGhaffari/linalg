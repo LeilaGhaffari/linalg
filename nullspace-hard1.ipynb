{
 "cells": [
  {
   "cell_type": "code",
   "execution_count": 1,
   "metadata": {},
   "outputs": [],
   "source": [
    "using LinearAlgebra"
   ]
  },
  {
   "cell_type": "code",
   "execution_count": 2,
   "metadata": {},
   "outputs": [
    {
     "data": {
      "text/plain": [
       "true"
      ]
     },
     "metadata": {},
     "output_type": "display_data"
    }
   ],
   "source": [
    "m = 5; n = 3;\n",
    "A = [9.536164885500757 -1.3888124843336203 -0.31701403374824627 -1.4399788580254713 -0.5660132558123616; -246.9696645295481 1038.804233131242 -168.79457186092566 -766.7187851444407 -301.37456078152155; -10024.863968819438 -30016.391166661942 309376.14468591753 -31122.249520211466 -12233.239176368521; -8.09759619268129e6 -2.4245776858937044e7 -5.53440555158858e6 3.1095097215773854e7 -9.88141398096068e6; -5.660132558123616e8 -1.6947536988854022e9 -3.86848989589268e8 -1.757191502441312e9 9.309299801285673e9]\n",
    "Z = [-0.7129450489641078 0.26932808210455883 -0.35714052277673436; -0.14637906894334676 -0.7114324335541027 0.25976418268418494; -0.39442299898091154 0.11310623332793951 -0.1822319246739048; -0.4519395716763137 -0.5421358152486775 -0.007731264801954483; -0.33236071783647775 0.33855873121835867 0.8784673981198073]\n",
    "Y = A * Z;\n",
    "YTY = Y'*Y;\n",
    "U, S, V = svd(YTY);\n",
    "sigma = sqrt.(S)\n",
    "YTY ≈ U * diagm(S) * V'"
   ]
  },
  {
   "cell_type": "code",
   "execution_count": 3,
   "metadata": {},
   "outputs": [
    {
     "data": {
      "text/plain": [
       "3×3 Matrix{Float64}:\n",
       "  2.23714e18  -7.64887e18  -1.20014e19\n",
       " -7.64887e18   2.61519e19   4.10334e19\n",
       " -1.20014e19   4.10334e19   6.43832e19"
      ]
     },
     "metadata": {},
     "output_type": "display_data"
    }
   ],
   "source": [
    "YTY"
   ]
  },
  {
   "cell_type": "code",
   "execution_count": 4,
   "metadata": {},
   "outputs": [
    {
     "data": {
      "text/plain": [
       "true"
      ]
     },
     "metadata": {},
     "output_type": "display_data"
    }
   ],
   "source": [
    "tol = 1E6\n",
    "sigma_min = min(findall(>(tol), sigma[1]./sigma)...)\n",
    "Vhat = V[:, sigma_min:end]\n",
    "Zhat = Z * Vhat # null space\n",
    "Zhat ≈ nullspace(A) || Zhat ≈ -nullspace(A)"
   ]
  }
 ],
 "metadata": {
  "kernelspec": {
   "display_name": "Julia 1.8.0",
   "language": "julia",
   "name": "julia-1.8"
  },
  "language_info": {
   "file_extension": ".jl",
   "mimetype": "application/julia",
   "name": "julia",
   "version": "1.8.0"
  },
  "orig_nbformat": 4
 },
 "nbformat": 4,
 "nbformat_minor": 2
}
